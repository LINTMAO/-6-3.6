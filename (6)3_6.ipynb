{
  "cells": [
    {
      "cell_type": "markdown",
      "metadata": {
        "id": "view-in-github",
        "colab_type": "text"
      },
      "source": [
        "<a href=\"https://colab.research.google.com/github/LINTMAO/-6-3.6/blob/main/(6)3_6.ipynb\" target=\"_parent\"><img src=\"https://colab.research.google.com/assets/colab-badge.svg\" alt=\"Open In Colab\"/></a>"
      ]
    },
    {
      "cell_type": "code",
      "execution_count": null,
      "metadata": {
        "id": "hJg8y0o5bMoZ",
        "colab": {
          "base_uri": "https://localhost:8080/"
        },
        "outputId": "749a33e0-b251-4f7f-d80f-94ca407fb67c"
      },
      "outputs": [
        {
          "output_type": "stream",
          "name": "stdout",
          "text": [
            "*\n",
            "***\n",
            "*****\n",
            "***\n",
            "*\n"
          ]
        }
      ],
      "source": [
        "x = 1\n",
        "while x <= 9:\n",
        "    if x <= 5:\n",
        "      print( '' * ( 5 - x ) + '*' * x)\n",
        "    else:\n",
        "      print( '' * ( x - 5 ) + '*' * ( 10 - x ))\n",
        "    x = x + 2\n"
      ]
    }
  ],
  "metadata": {
    "kernelspec": {
      "display_name": "Python 3",
      "language": "python",
      "name": "python3"
    },
    "language_info": {
      "codemirror_mode": {
        "name": "ipython",
        "version": 3
      },
      "file_extension": ".py",
      "mimetype": "text/x-python",
      "name": "python",
      "nbconvert_exporter": "python",
      "pygments_lexer": "ipython3",
      "version": "3.7.3"
    },
    "colab": {
      "provenance": [],
      "include_colab_link": true
    }
  },
  "nbformat": 4,
  "nbformat_minor": 0
}